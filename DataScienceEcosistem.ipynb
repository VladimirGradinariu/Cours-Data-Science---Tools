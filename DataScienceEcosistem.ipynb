{
 "cells": [
  {
   "cell_type": "markdown",
   "id": "1706d761-0a5b-4501-bff3-d0312c7e9cd2",
   "metadata": {},
   "source": [
    "# Data Science Tools and Ecosystem"
   ]
  },
  {
   "cell_type": "markdown",
   "id": "6fff0806-c5f5-42b3-86de-6b2533114a18",
   "metadata": {},
   "source": [
    "In this notebook, Data Science Tools and Ecosystem are summarized."
   ]
  },
  {
   "cell_type": "markdown",
   "id": "7878f466-8286-43f2-b4ce-871ed2126860",
   "metadata": {},
   "source": [
    "Some of the popular languages that Data Science use are:\n",
    "\n",
    "1. Python\n",
    "2. R\n",
    "3. SQL"
   ]
  },
  {
   "cell_type": "markdown",
   "id": "00a5bd24-35d5-4c1e-a017-98c9000d01e8",
   "metadata": {},
   "source": [
    "Some of the commonly used libraries used by Data Scientists include:\n",
    "\n",
    "1. Pandas\n",
    "2. NumPy\n",
    "3. Matplotlib\n",
    "4. TensorFlow\n",
    "5. Seaborn\n",
    "6. Keras\n",
    "7. Scikit-learn\n",
    "8. Plotly"
   ]
  },
  {
   "cell_type": "markdown",
   "id": "7b58af86-362a-4269-a03c-1a66fc201f5e",
   "metadata": {},
   "source": [
    "| Data Science Tools |\n",
    "| ------------------ |\n",
    "| Jupyter Notebook   |\n",
    "| RStudio            |\n",
    "| GitHub             |"
   ]
  },
  {
   "cell_type": "markdown",
   "id": "a300404b-4a8f-4b52-abda-6a7dc32cc49e",
   "metadata": {},
   "source": [
    "### Below are a few examples of evaluating arithmetic expressions in Python."
   ]
  },
  {
   "cell_type": "code",
   "execution_count": 1,
   "id": "472e0031-eef5-4b14-8f17-82c60955ab16",
   "metadata": {},
   "outputs": [
    {
     "data": {
      "text/plain": [
       "17"
      ]
     },
     "execution_count": 1,
     "metadata": {},
     "output_type": "execute_result"
    }
   ],
   "source": [
    "# This is a simple arithmetic expression to multiply then add integers\n",
    "(3*4)+5"
   ]
  },
  {
   "cell_type": "code",
   "execution_count": 2,
   "id": "e6623b3e-7d6e-4b73-a6c7-8edc81e77e4a",
   "metadata": {},
   "outputs": [
    {
     "data": {
      "text/plain": [
       "3.3333333333333335"
      ]
     },
     "execution_count": 2,
     "metadata": {},
     "output_type": "execute_result"
    }
   ],
   "source": [
    "#This will convert 200 minutes to hours by dividing by 60\n",
    "200/60"
   ]
  },
  {
   "cell_type": "markdown",
   "id": "b57c7bcf-6caf-4dae-ac88-053f348dba4b",
   "metadata": {},
   "source": [
    "**Objecitves:**\n",
    "\n",
    "- List popular languages for Data Science.\n",
    "- List comonly used libraries for Data Science.\n",
    "- Perform aritmetic operations using Python\n",
    "- Create tabels in Jupyter\n"
   ]
  },
  {
   "cell_type": "markdown",
   "id": "0900c7ee-f24c-4efa-91a0-e81d4bbb9b32",
   "metadata": {},
   "source": [
    "## Author \n",
    "Grădinariu Vladimir-Mihail"
   ]
  },
  {
   "cell_type": "code",
   "execution_count": null,
   "id": "19461da7-de64-427a-8dc7-cb8ebdef4222",
   "metadata": {},
   "outputs": [],
   "source": []
  }
 ],
 "metadata": {
  "kernelspec": {
   "display_name": "Python 3 (ipykernel)",
   "language": "python",
   "name": "python3"
  },
  "language_info": {
   "codemirror_mode": {
    "name": "ipython",
    "version": 3
   },
   "file_extension": ".py",
   "mimetype": "text/x-python",
   "name": "python",
   "nbconvert_exporter": "python",
   "pygments_lexer": "ipython3",
   "version": "3.12.8"
  }
 },
 "nbformat": 4,
 "nbformat_minor": 5
}
